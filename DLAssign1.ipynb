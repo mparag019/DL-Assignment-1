{
  "cells": [
    {
      "cell_type": "markdown",
      "metadata": {
        "id": "view-in-github",
        "colab_type": "text"
      },
      "source": [
        "<a href=\"https://colab.research.google.com/github/mparag019/DL-Assignment-1/blob/main/DLAssign1.ipynb\" target=\"_parent\"><img src=\"https://colab.research.google.com/assets/colab-badge.svg\" alt=\"Open In Colab\"/></a>"
      ]
    },
    {
      "cell_type": "code",
      "execution_count": 1,
      "metadata": {
        "id": "lhfW1BS51dXn",
        "colab": {
          "base_uri": "https://localhost:8080/",
          "height": 677
        },
        "outputId": "b2c55757-9dc4-40f2-abca-8e28935c49e5"
      },
      "outputs": [
        {
          "output_type": "stream",
          "name": "stdout",
          "text": [
            "Collecting wandb\n",
            "  Downloading wandb-0.16.4-py3-none-any.whl (2.2 MB)\n",
            "\u001b[2K     \u001b[90m━━━━━━━━━━━━━━━━━━━━━━━━━━━━━━━━━━━━━━━━\u001b[0m \u001b[32m2.2/2.2 MB\u001b[0m \u001b[31m8.6 MB/s\u001b[0m eta \u001b[36m0:00:00\u001b[0m\n",
            "\u001b[?25hRequirement already satisfied: Click!=8.0.0,>=7.1 in /usr/local/lib/python3.10/dist-packages (from wandb) (8.1.7)\n",
            "Collecting GitPython!=3.1.29,>=1.0.0 (from wandb)\n",
            "  Downloading GitPython-3.1.42-py3-none-any.whl (195 kB)\n",
            "\u001b[2K     \u001b[90m━━━━━━━━━━━━━━━━━━━━━━━━━━━━━━━━━━━━━━━━\u001b[0m \u001b[32m195.4/195.4 kB\u001b[0m \u001b[31m17.3 MB/s\u001b[0m eta \u001b[36m0:00:00\u001b[0m\n",
            "\u001b[?25hRequirement already satisfied: requests<3,>=2.0.0 in /usr/local/lib/python3.10/dist-packages (from wandb) (2.31.0)\n",
            "Requirement already satisfied: psutil>=5.0.0 in /usr/local/lib/python3.10/dist-packages (from wandb) (5.9.5)\n",
            "Collecting sentry-sdk>=1.0.0 (from wandb)\n",
            "  Downloading sentry_sdk-1.42.0-py2.py3-none-any.whl (263 kB)\n",
            "\u001b[2K     \u001b[90m━━━━━━━━━━━━━━━━━━━━━━━━━━━━━━━━━━━━━━━━\u001b[0m \u001b[32m263.5/263.5 kB\u001b[0m \u001b[31m10.9 MB/s\u001b[0m eta \u001b[36m0:00:00\u001b[0m\n",
            "\u001b[?25hCollecting docker-pycreds>=0.4.0 (from wandb)\n",
            "  Downloading docker_pycreds-0.4.0-py2.py3-none-any.whl (9.0 kB)\n",
            "Requirement already satisfied: PyYAML in /usr/local/lib/python3.10/dist-packages (from wandb) (6.0.1)\n",
            "Collecting setproctitle (from wandb)\n",
            "  Downloading setproctitle-1.3.3-cp310-cp310-manylinux_2_5_x86_64.manylinux1_x86_64.manylinux_2_17_x86_64.manylinux2014_x86_64.whl (30 kB)\n",
            "Requirement already satisfied: setuptools in /usr/local/lib/python3.10/dist-packages (from wandb) (67.7.2)\n",
            "Requirement already satisfied: appdirs>=1.4.3 in /usr/local/lib/python3.10/dist-packages (from wandb) (1.4.4)\n",
            "Requirement already satisfied: protobuf!=4.21.0,<5,>=3.19.0 in /usr/local/lib/python3.10/dist-packages (from wandb) (3.20.3)\n",
            "Requirement already satisfied: six>=1.4.0 in /usr/local/lib/python3.10/dist-packages (from docker-pycreds>=0.4.0->wandb) (1.16.0)\n",
            "Collecting gitdb<5,>=4.0.1 (from GitPython!=3.1.29,>=1.0.0->wandb)\n",
            "  Downloading gitdb-4.0.11-py3-none-any.whl (62 kB)\n",
            "\u001b[2K     \u001b[90m━━━━━━━━━━━━━━━━━━━━━━━━━━━━━━━━━━━━━━━━\u001b[0m \u001b[32m62.7/62.7 kB\u001b[0m \u001b[31m8.0 MB/s\u001b[0m eta \u001b[36m0:00:00\u001b[0m\n",
            "\u001b[?25hRequirement already satisfied: charset-normalizer<4,>=2 in /usr/local/lib/python3.10/dist-packages (from requests<3,>=2.0.0->wandb) (3.3.2)\n",
            "Requirement already satisfied: idna<4,>=2.5 in /usr/local/lib/python3.10/dist-packages (from requests<3,>=2.0.0->wandb) (3.6)\n",
            "Requirement already satisfied: urllib3<3,>=1.21.1 in /usr/local/lib/python3.10/dist-packages (from requests<3,>=2.0.0->wandb) (2.0.7)\n",
            "Requirement already satisfied: certifi>=2017.4.17 in /usr/local/lib/python3.10/dist-packages (from requests<3,>=2.0.0->wandb) (2024.2.2)\n",
            "Collecting smmap<6,>=3.0.1 (from gitdb<5,>=4.0.1->GitPython!=3.1.29,>=1.0.0->wandb)\n",
            "  Downloading smmap-5.0.1-py3-none-any.whl (24 kB)\n",
            "Installing collected packages: smmap, setproctitle, sentry-sdk, docker-pycreds, gitdb, GitPython, wandb\n",
            "Successfully installed GitPython-3.1.42 docker-pycreds-0.4.0 gitdb-4.0.11 sentry-sdk-1.42.0 setproctitle-1.3.3 smmap-5.0.1 wandb-0.16.4\n"
          ]
        },
        {
          "output_type": "display_data",
          "data": {
            "text/plain": [
              "<IPython.core.display.Javascript object>"
            ],
            "application/javascript": [
              "\n",
              "        window._wandbApiKey = new Promise((resolve, reject) => {\n",
              "            function loadScript(url) {\n",
              "            return new Promise(function(resolve, reject) {\n",
              "                let newScript = document.createElement(\"script\");\n",
              "                newScript.onerror = reject;\n",
              "                newScript.onload = resolve;\n",
              "                document.body.appendChild(newScript);\n",
              "                newScript.src = url;\n",
              "            });\n",
              "            }\n",
              "            loadScript(\"https://cdn.jsdelivr.net/npm/postmate/build/postmate.min.js\").then(() => {\n",
              "            const iframe = document.createElement('iframe')\n",
              "            iframe.style.cssText = \"width:0;height:0;border:none\"\n",
              "            document.body.appendChild(iframe)\n",
              "            const handshake = new Postmate({\n",
              "                container: iframe,\n",
              "                url: 'https://wandb.ai/authorize'\n",
              "            });\n",
              "            const timeout = setTimeout(() => reject(\"Couldn't auto authenticate\"), 5000)\n",
              "            handshake.then(function(child) {\n",
              "                child.on('authorize', data => {\n",
              "                    clearTimeout(timeout)\n",
              "                    resolve(data)\n",
              "                });\n",
              "            });\n",
              "            })\n",
              "        });\n",
              "    "
            ]
          },
          "metadata": {}
        },
        {
          "output_type": "stream",
          "name": "stderr",
          "text": [
            "\u001b[34m\u001b[1mwandb\u001b[0m: Logging into wandb.ai. (Learn how to deploy a W&B server locally: https://wandb.me/wandb-server)\n",
            "\u001b[34m\u001b[1mwandb\u001b[0m: You can find your API key in your browser here: https://wandb.ai/authorize\n",
            "wandb: Paste an API key from your profile and hit enter, or press ctrl+c to quit:"
          ]
        },
        {
          "name": "stdout",
          "output_type": "stream",
          "text": [
            " ··········\n"
          ]
        },
        {
          "output_type": "stream",
          "name": "stderr",
          "text": [
            "\u001b[34m\u001b[1mwandb\u001b[0m: Appending key for api.wandb.ai to your netrc file: /root/.netrc\n"
          ]
        },
        {
          "output_type": "execute_result",
          "data": {
            "text/plain": [
              "True"
            ]
          },
          "metadata": {},
          "execution_count": 1
        }
      ],
      "source": [
        "!pip install wandb\n",
        "import numpy as np\n",
        "import random\n",
        "from keras.datasets import fashion_mnist\n",
        "from keras.datasets import mnist\n",
        "import matplotlib.pyplot as plt\n",
        "import sys\n",
        "import wandb\n",
        "wandb.login()"
      ]
    },
    {
      "cell_type": "code",
      "execution_count": 2,
      "metadata": {
        "id": "IuPCsO5BkZOz",
        "colab": {
          "base_uri": "https://localhost:8080/"
        },
        "outputId": "c9531f1d-60aa-438e-92ab-662035eb7767"
      },
      "outputs": [
        {
          "output_type": "stream",
          "name": "stdout",
          "text": [
            "Downloading data from https://storage.googleapis.com/tensorflow/tf-keras-datasets/train-labels-idx1-ubyte.gz\n",
            "29515/29515 [==============================] - 0s 0us/step\n",
            "Downloading data from https://storage.googleapis.com/tensorflow/tf-keras-datasets/train-images-idx3-ubyte.gz\n",
            "26421880/26421880 [==============================] - 0s 0us/step\n",
            "Downloading data from https://storage.googleapis.com/tensorflow/tf-keras-datasets/t10k-labels-idx1-ubyte.gz\n",
            "5148/5148 [==============================] - 0s 0us/step\n",
            "Downloading data from https://storage.googleapis.com/tensorflow/tf-keras-datasets/t10k-images-idx3-ubyte.gz\n",
            "4422102/4422102 [==============================] - 0s 0us/step\n"
          ]
        }
      ],
      "source": [
        "(x_train, y_train), (x_test, y_test) = fashion_mnist.load_data()\n",
        "x_train = x_train/255\n",
        "x_test = x_test/255"
      ]
    },
    {
      "cell_type": "code",
      "execution_count": 3,
      "metadata": {
        "id": "KQPVnuqWlLeB"
      },
      "outputs": [],
      "source": [
        "class_labels = {\n",
        "    0: 'T-shirt/top',\n",
        "    1: 'Trouser',\n",
        "    2: 'Pullover',\n",
        "    3: 'Dress',\n",
        "    4: 'Coat',\n",
        "    5: 'Sandal',\n",
        "    6: 'Shirt',\n",
        "    7: 'Sneaker',\n",
        "    8: 'Bag',\n",
        "    9: 'Ankle boot'\n",
        "}\n",
        "\n",
        "k = 10"
      ]
    },
    {
      "cell_type": "markdown",
      "metadata": {
        "id": "k5XcYP2ikzsR"
      },
      "source": [
        "### Question 1\n"
      ]
    },
    {
      "cell_type": "code",
      "execution_count": 4,
      "metadata": {
        "id": "IU2c4nIUk7-c"
      },
      "outputs": [],
      "source": [
        "def showImage():\n",
        "    label = []\n",
        "    images = []\n",
        "\n",
        "    for i in range(len(x_train)):\n",
        "        if len(label) == 10:\n",
        "            break\n",
        "        if y_train[i] not in label:\n",
        "            images.append(x_train[i])\n",
        "            label.append(y_train[i])\n",
        "\n",
        "    # Initialize a Weights & Biases run\n",
        "    wandb.init(project=\"DL-Assignment-1\", name=\"logging_images_example\")\n",
        "\n",
        "    # Log the images\n",
        "    for i in range(len(images)):\n",
        "        # Convert the image to a numpy array if it's not already\n",
        "        image_array = np.array(images[i])\n",
        "\n",
        "        # Log the image\n",
        "        wandb.log({\"image\": [wandb.Image(image_array, caption=class_labels[label[i]])]})\n",
        "\n",
        "        # Optionally, you can also display the image using matplotlib\n",
        "        plt.imshow(images[i], cmap='gray')\n",
        "        plt.title(class_labels[label[i]])\n",
        "        plt.axis(\"off\")\n",
        "        plt.show()\n",
        "\n",
        "    # Finish the run\n",
        "    wandb.finish()"
      ]
    },
    {
      "cell_type": "code",
      "execution_count": 5,
      "metadata": {
        "colab": {
          "base_uri": "https://localhost:8080/",
          "height": 1000,
          "referenced_widgets": [
            "21bf2895133843c39a12bb2f77a67fed",
            "ce4c088f1421454fa152a25644ed7b92",
            "b442df251a9e41d2acd3a1c5a35c1d05",
            "551d335a3da04840a1b66679057c92e1",
            "15f2481ba3794ab3aa8f2a2de348c031",
            "bf2988f97deb46adab3de4ef315a620d",
            "bf1eb15eee6a4464a58a693fdb27bad5",
            "8e2586f4c4a24051b64142e72aef1219"
          ]
        },
        "id": "wOR776aBoNLa",
        "outputId": "0263c712-f336-41ab-923e-7379eee08e48"
      },
      "outputs": [
        {
          "output_type": "stream",
          "name": "stderr",
          "text": [
            "\u001b[34m\u001b[1mwandb\u001b[0m: Currently logged in as: \u001b[33mcs23m047\u001b[0m. Use \u001b[1m`wandb login --relogin`\u001b[0m to force relogin\n"
          ]
        },
        {
          "output_type": "display_data",
          "data": {
            "text/plain": [
              "<IPython.core.display.HTML object>"
            ],
            "text/html": [
              "Tracking run with wandb version 0.16.4"
            ]
          },
          "metadata": {}
        },
        {
          "output_type": "display_data",
          "data": {
            "text/plain": [
              "<IPython.core.display.HTML object>"
            ],
            "text/html": [
              "Run data is saved locally in <code>/content/wandb/run-20240316_205155-4y7htgpu</code>"
            ]
          },
          "metadata": {}
        },
        {
          "output_type": "display_data",
          "data": {
            "text/plain": [
              "<IPython.core.display.HTML object>"
            ],
            "text/html": [
              "Syncing run <strong><a href='https://wandb.ai/cs23m047/DL-Assignment-1/runs/4y7htgpu' target=\"_blank\">logging_images_example</a></strong> to <a href='https://wandb.ai/cs23m047/DL-Assignment-1' target=\"_blank\">Weights & Biases</a> (<a href='https://wandb.me/run' target=\"_blank\">docs</a>)<br/>"
            ]
          },
          "metadata": {}
        },
        {
          "output_type": "display_data",
          "data": {
            "text/plain": [
              "<IPython.core.display.HTML object>"
            ],
            "text/html": [
              " View project at <a href='https://wandb.ai/cs23m047/DL-Assignment-1' target=\"_blank\">https://wandb.ai/cs23m047/DL-Assignment-1</a>"
            ]
          },
          "metadata": {}
        },
        {
          "output_type": "display_data",
          "data": {
            "text/plain": [
              "<IPython.core.display.HTML object>"
            ],
            "text/html": [
              " View run at <a href='https://wandb.ai/cs23m047/DL-Assignment-1/runs/4y7htgpu' target=\"_blank\">https://wandb.ai/cs23m047/DL-Assignment-1/runs/4y7htgpu</a>"
            ]
          },
          "metadata": {}
        },
        {
          "output_type": "display_data",
          "data": {
            "text/plain": [
              "<Figure size 640x480 with 1 Axes>"
            ],
            "image/png": "[encoded data removed]"
          },
          "metadata": {}
        },
        {
          "output_type": "display_data",
          "data": {
            "text/plain": [
              "<Figure size 640x480 with 1 Axes>"
            ],
            "image/png": "[encoded data removed]"
          },
          "metadata": {}
        },
        {
          "output_type": "display_data",
          "data": {
            "text/plain": [
              "<Figure size 640x480 with 1 Axes>"
            ],
            "image/png": "[encoded data removed]"
          },
          "metadata": {}
        },
        {
          "output_type": "display_data",
          "data": {
            "text/plain": [
              "<Figure size 640x480 with 1 Axes>"
            ],
            "image/png": "[encoded data removed]"
          },
          "metadata": {}
        },
        {
          "output_type": "display_data",
          "data": {
            "text/plain": [
              "<Figure size 640x480 with 1 Axes>"
            ],
            "image/png": "[encoded data removed]"
          },
          "metadata": {}
        },
        {
          "output_type": "display_data",
          "data": {
            "text/plain": [
              "<Figure size 640x480 with 1 Axes>"
            ],
            "image/png": "[encoded data removed]"
          },
          "metadata": {}
        },
        {
          "output_type": "display_data",
          "data": {
            "text/plain": [
              "<Figure size 640x480 with 1 Axes>"
            ],
            "image/png": "[encoded data removed]"
          },
          "metadata": {}
        },
        {
          "output_type": "display_data",
          "data": {
            "text/plain": [
              "<Figure size 640x480 with 1 Axes>"
            ],
            "image/png": "[encoded data removed]"
          },
          "metadata": {}
        },
        {
          "output_type": "display_data",
          "data": {
            "text/plain": [
              "<Figure size 640x480 with 1 Axes>"
            ],
            "image/png": "[encoded data removed]"
          },
          "metadata": {}
        },
        {
          "output_type": "display_data",
          "data": {
            "text/plain": [
              "<Figure size 640x480 with 1 Axes>"
            ],
            "image/png": "[encoded data removed]"
          },
          "metadata": {}
        },
        {
          "output_type": "display_data",
          "data": {
            "text/plain": [
              "VBox(children=(Label(value='0.015 MB of 0.015 MB uploaded\\r'), FloatProgress(value=1.0, max=1.0)))"
            ],
            "application/vnd.jupyter.widget-view+json": {
              "version_major": 2,
              "version_minor": 0,
              "model_id": "21bf2895133843c39a12bb2f77a67fed"
            }
          },
          "metadata": {}
        },
        {
          "output_type": "display_data",
          "data": {
            "text/plain": [
              "<IPython.core.display.HTML object>"
            ],
            "text/html": [
              " View run <strong style=\"color:#cdcd00\">logging_images_example</strong> at: <a href='https://wandb.ai/cs23m047/DL-Assignment-1/runs/4y7htgpu' target=\"_blank\">https://wandb.ai/cs23m047/DL-Assignment-1/runs/4y7htgpu</a><br/>Synced 4 W&B file(s), 10 media file(s), 0 artifact file(s) and 0 other file(s)"
            ]
          },
          "metadata": {}
        },
        {
          "output_type": "display_data",
          "data": {
            "text/plain": [
              "<IPython.core.display.HTML object>"
            ],
            "text/html": [
              "Find logs at: <code>./wandb/run-20240316_205155-4y7htgpu/logs</code>"
            ]
          },
          "metadata": {}
        }
      ],
      "source": [
        "showImage()"
      ]
    },
    {
      "cell_type": "markdown",
      "metadata": {
        "id": "l3nlmY5IOjjE"
      },
      "source": [
        "#Question 2\n"
      ]
    },
    {
      "cell_type": "code",
      "execution_count": 6,
      "metadata": {
        "id": "rjCo_niPHLU1"
      },
      "outputs": [],
      "source": [
        "def sigmoid(x):\n",
        "  return 1/(1 + np.exp(-x))"
      ]
    },
    {
      "cell_type": "code",
      "execution_count": 7,
      "metadata": {
        "id": "cJinrVEgMB5y"
      },
      "outputs": [],
      "source": [
        "def relu(x):\n",
        "  if x < 0:\n",
        "    return 0\n",
        "  else:\n",
        "    return x"
      ]
    },
    {
      "cell_type": "code",
      "execution_count": 8,
      "metadata": {
        "id": "GiQAZviHvz2d"
      },
      "outputs": [],
      "source": [
        "def tanh(x):\n",
        "  return np.tanh(x)"
      ]
    },
    {
      "cell_type": "code",
      "execution_count": 9,
      "metadata": {
        "id": "QXUXlJ8MHX9s"
      },
      "outputs": [],
      "source": [
        "def softmax(x):\n",
        "  max_float_value = sys.float_info.max\n",
        "  sum = 0.0\n",
        "  for i in range(len(x)):\n",
        "    if (sum + np.exp(x[i]) <= max_float_value):\n",
        "      sum += np.exp(x[i])\n",
        "    else:\n",
        "      sum = max_float_value\n",
        "  y = []\n",
        "  for i in range(len(x)):\n",
        "    y_i = np.exp(x[i])/sum\n",
        "    y.append(y_i)\n",
        "  return y\n"
      ]
    },
    {
      "cell_type": "code",
      "execution_count": 10,
      "metadata": {
        "id": "p5MfaRKS5CRC"
      },
      "outputs": [],
      "source": [
        "def initialize_param(input_size, n, neurons):\n",
        "  W = []\n",
        "  b = []\n",
        "  for i in range(0, n+1):\n",
        "    if i == 0:\n",
        "      W_i = np.random.rand(neurons,input_size) * 0.01\n",
        "      W.append(W_i)\n",
        "    elif i == n:\n",
        "      W_i = np.random.rand(10,neurons) * 0.01\n",
        "      W.append(W_i)\n",
        "    else :\n",
        "      W_i = np.random.rand(neurons,neurons) * 0.01\n",
        "      W.append(W_i)\n",
        "\n",
        "    if i == n:\n",
        "      b_i = np.random.rand(10,1) * 0.01\n",
        "      b.append(b_i)\n",
        "    else :\n",
        "      b_i = np.random.rand(neurons,1) * 0.01\n",
        "      b.append(b_i)\n",
        "  return W, b"
      ]
    },
    {
      "cell_type": "code",
      "execution_count": 11,
      "metadata": {
        "id": "_g1AaAR9bFi-"
      },
      "outputs": [],
      "source": [
        "def xavier_initialization(input_size, n, neurons):\n",
        "  W = []\n",
        "  b = []\n",
        "  for i in range(0, n+1):\n",
        "    if i == 0:\n",
        "      variance = 6.0 / (input_size + neurons)\n",
        "      std_dev = np.sqrt(variance)\n",
        "      W_i = np.random.normal(0, std_dev, size=(neurons, input_size))\n",
        "      W.append(W_i)\n",
        "    elif i == n:\n",
        "      variance = 6.0 / (10 + neurons)\n",
        "      std_dev = np.sqrt(variance)\n",
        "      W_i = np.random.normal(0, std_dev, size=(10, neurons))\n",
        "      W.append(W_i)\n",
        "    else :\n",
        "      variance = 6.0 / (neurons + neurons)\n",
        "      std_dev = np.sqrt(variance)\n",
        "      W_i = np.random.normal(0, std_dev, size=(neurons, neurons))\n",
        "      W.append(W_i)\n",
        "\n",
        "    if i == n:\n",
        "      variance = 2.0 / (10 + 1)\n",
        "      std_dev = np.sqrt(variance)\n",
        "      b_i = np.random.normal(0, std_dev, size=(10, 1))\n",
        "      # b_i = np.zeros((10,1))\n",
        "      b.append(b_i)\n",
        "    else :\n",
        "      variance = 2.0 / (neurons + 1)\n",
        "      std_dev = np.sqrt(variance)\n",
        "      b_i = np.random.normal(0, std_dev, size=(neurons, 1))\n",
        "      # b_i = np.zeros((neurons,1))\n",
        "      b.append(b_i)\n",
        "  return W, b"
      ]
    },
    {
      "cell_type": "code",
      "execution_count": 12,
      "metadata": {
        "id": "gkM0R5Jp--zD"
      },
      "outputs": [],
      "source": [
        "def forward_propogation(func, x, W, b, n, neurons):\n",
        "  a = []\n",
        "  h = []\n",
        "  for k in range(n+1):\n",
        "    if k == 0:\n",
        "      a_k = np.add(np.dot(W[k], x), b[k])\n",
        "      a.append(a_k)\n",
        "    else:\n",
        "      a_k = np.add(np.dot(W[k], h[k-1]), b[k])\n",
        "      a.append(a_k)\n",
        "    if k == n: break\n",
        "    h_k = []\n",
        "    a[k] = np.clip(a[k], -709.78, 709.78)\n",
        "\n",
        "    for j in range(neurons):\n",
        "      if func == \"sigmoid\":\n",
        "        h_kj = sigmoid(a[k][j][0])\n",
        "      elif func == \"ReLU\":\n",
        "        h_kj = relu(a[k][j][0])\n",
        "      elif func == \"tanh\":\n",
        "        h_kj = tanh(a[k][j][0])\n",
        "      h_k.append(h_kj)\n",
        "    h_k = np.array(h_k).reshape(neurons,1)\n",
        "    h.append(h_k)\n",
        "  a[n] = np.clip(a[n], -500, 500)\n",
        "  y_pred = np.array(softmax(a[n]))\n",
        "  return a, h, y_pred\n"
      ]
    },
    {
      "cell_type": "code",
      "execution_count": 13,
      "metadata": {
        "id": "pDdP_1pWIiW5"
      },
      "outputs": [],
      "source": [
        "# x = x_train[0].flatten().reshape(784,1)\n",
        "# x_len = len(x)\n",
        "# # print(x.shape)\n",
        "# W, b= initialize_param(x_len, 2, 16)\n",
        "# print(W[0].shape)\n",
        "# print(W[1].shape)\n",
        "# print(W[2].shape)\n",
        "# print(b[0].shape)\n",
        "# print(b[1].shape)\n",
        "# print(b[2].shape)\n",
        "\n",
        "# a, h, y_pred = forward_propogation(\"ReLU\", x, W, b, n)\n",
        "# # print(a)\n",
        "# # print(h)\n",
        "# # print(y_pred)\n",
        "# # print(y_pred.shape)\n",
        "# # print(y_train[0])"
      ]
    },
    {
      "cell_type": "markdown",
      "metadata": {
        "id": "7Fl7_VxQjpaw"
      },
      "source": [
        "#Question 3, Question 4"
      ]
    },
    {
      "cell_type": "code",
      "execution_count": 14,
      "metadata": {
        "id": "oa6M2XsPt5Gc"
      },
      "outputs": [],
      "source": [
        "def diff_g(func, a):\n",
        "  diff_a = []\n",
        "  if func == \"sigmoid\":\n",
        "    for i in a:\n",
        "      i = np.clip(i, -709.78, 709.78)\n",
        "      diff_a.append(sigmoid(i[0]) * (1 - sigmoid(i[0])))\n",
        "  elif func == \"tanh\":\n",
        "    for i in a:\n",
        "      diff_a.append(1 - tanh(i[0]) * tanh(i[0]))\n",
        "  elif func == \"ReLU\":\n",
        "    for i in a:\n",
        "      if i[0] > 0: diff_a.append(1)\n",
        "      else :diff_a.append(0)\n",
        "  diff_a = np.array(diff_a).reshape(len(diff_a),1)\n",
        "  return diff_a"
      ]
    },
    {
      "cell_type": "code",
      "execution_count": 15,
      "metadata": {
        "id": "bBKThNmZJrHo"
      },
      "outputs": [],
      "source": [
        "def back_propogation(func, a, h, y_pred, y, x, n, W, loss_type):\n",
        "  e_y = np.zeros(10).reshape(10,1)\n",
        "  e_y[y] = 1\n",
        "\n",
        "  grad_W = []\n",
        "  grad_b = []\n",
        "  grad_h = []\n",
        "  grad_a = []\n",
        "  if loss_type == \"cross_entropy\":\n",
        "    grad_a_n = np.subtract(y_pred, e_y)\n",
        "  else :\n",
        "    grad_a_n = -2 * (y_pred - e_y) * (y_pred * (1 - y_pred))\n",
        "  grad_a.append(grad_a_n)\n",
        "  for k in range(n, -1, -1):\n",
        "    if k == 0:\n",
        "      grad_W_k = np.dot(grad_a[len(grad_a) - 1], x.T)\n",
        "    else:\n",
        "      grad_W_k = np.dot(grad_a[len(grad_a) - 1], h[k-1].T)\n",
        "\n",
        "    grad_b_k = grad_a[len(grad_a) - 1]\n",
        "    grad_W.append(grad_W_k)\n",
        "    grad_b.append(grad_b_k)\n",
        "\n",
        "    if k == 0: break\n",
        "\n",
        "    grad_hprev = np.dot(W[k].T, grad_a[len(grad_a) - 1])\n",
        "\n",
        "    g = diff_g(func, a[k-1])\n",
        "    grad_aprev = grad_hprev * g\n",
        "\n",
        "    grad_h.append(grad_hprev)\n",
        "    grad_a.append(grad_aprev)\n",
        "\n",
        "  return grad_W, grad_b\n",
        "\n",
        "\n"
      ]
    },
    {
      "cell_type": "code",
      "execution_count": 16,
      "metadata": {
        "id": "WDxLNUR22B13"
      },
      "outputs": [],
      "source": [
        "# x = x_train[0].flatten().reshape(784,1)\n",
        "# x_len = len(x)\n",
        "# y = y_train[0]\n",
        "\n",
        "# W, b= initialize_param(x_len, n, neurons)\n",
        "\n",
        "# a, h, y_pred = forward_propogation(\"ReLU\", x, W, b, n)\n",
        "# grad_W, grad_b = back_propogation(\"ReLU\",  a, h, y_pred, y, x)\n",
        "# # print(grad_W)\n",
        "# # print(grad_b)\n"
      ]
    },
    {
      "cell_type": "markdown",
      "metadata": {
        "id": "8jaLV3rE1bXx"
      },
      "source": [
        "**Gradient Descent**"
      ]
    },
    {
      "cell_type": "code",
      "execution_count": 17,
      "metadata": {
        "id": "nic9ctThv-D3"
      },
      "outputs": [],
      "source": [
        "def gradient_descent(func, x, y, W, b, n, neurons, loss_type):\n",
        "  a, h, y_pred = forward_propogation(func, x, W, b, n, neurons)\n",
        "  grad_W, grad_b = back_propogation(func, a, h, y_pred, y, x, n, W, loss_type)\n",
        "  return grad_W, grad_b, y_pred\n"
      ]
    },
    {
      "cell_type": "code",
      "source": [
        "def mean_squared_error(y_pred, y):\n",
        "  loss = 0\n",
        "  for i in range(len(y_pred)):\n",
        "    if (i == y):\n",
        "      loss += (y_pred[i][0] - 1)**2\n",
        "    else:\n",
        "      loss += (y_pred[i][0])**2\n",
        "  return loss"
      ],
      "metadata": {
        "id": "iWZXTePdOjhu"
      },
      "execution_count": 18,
      "outputs": []
    },
    {
      "cell_type": "code",
      "source": [
        "def cross_entropy_loss(y_pred, y):\n",
        "  return -np.log(y_pred[y][0])\n"
      ],
      "metadata": {
        "id": "CC6S8bZmJPEJ"
      },
      "execution_count": 19,
      "outputs": []
    },
    {
      "cell_type": "code",
      "source": [
        "def training_accuracy(x_train, activation_func, W, b, n, y_train, neurons):\n",
        "  count = 0\n",
        "  for i in range(int(0.9 * len(x_train))):\n",
        "    a, h, y_pred = forward_propogation(activation_func, x_train[i].flatten().reshape(784,1), W, b, n, neurons)\n",
        "    y_p = np.argmax(y_pred)\n",
        "    if (y_train[i] == y_p):\n",
        "      count+=1\n",
        "  # wandb.log({\"Training Acc: \" : count/54000})\n",
        "  print(\"Training Acc: \" , count/54000)"
      ],
      "metadata": {
        "id": "tng_wALP7g8z"
      },
      "execution_count": 20,
      "outputs": []
    },
    {
      "cell_type": "code",
      "source": [
        "def validation_loss_and_accuracy(x_train, activation_func, W, b, n, y_train, neurons, sum):\n",
        "  count = 0\n",
        "  loss = 0\n",
        "  for i in range(54000, len(x_train)):\n",
        "    a, h, y_pred = forward_propogation(activation_func, x_train[i].flatten().reshape(784,1), W, b, n, neurons)\n",
        "    y_p = np.argmax(y_pred)\n",
        "    loss += cross_entropy_loss(y_pred, y_train[i])\n",
        "    if (y_train[i] == y_p):\n",
        "      count+=1\n",
        "  # wandb.log({\"Validation loss: \" : (loss + sum)/6000})\n",
        "  # wandb.log({\"Validation Acc: \": count/6000})\n",
        "  print(\"Validation loss: \" , (loss + sum)/6000)\n",
        "  print(\"Validation Acc: \", count/6000)"
      ],
      "metadata": {
        "id": "Dc939b3J75wA"
      },
      "execution_count": 21,
      "outputs": []
    },
    {
      "cell_type": "code",
      "execution_count": 22,
      "metadata": {
        "id": "g_Ah5k3KztP7"
      },
      "outputs": [],
      "source": [
        "def sgd(n, neurons, epochs, alpha, eta, batch_size, activation_func, W, b, loss_type, x_train, y_train):\n",
        "  batch = batch_size\n",
        "  for j in range(epochs):\n",
        "    loss = 0\n",
        "    for i in range(int(0.9 * len(x_train))):\n",
        "\n",
        "      if batch == batch_size:\n",
        "        dw = [np.zeros_like(w) for w in W]\n",
        "        db = [np.zeros_like(bias) for bias in b]\n",
        "\n",
        "      grad_W, grad_b, y_pred = gradient_descent(activation_func, x_train[i].flatten().reshape(784,1), y_train[i], W, b, n, neurons, loss_type)\n",
        "\n",
        "      for k in range(len(dw)):\n",
        "        dw[k] = np.add(dw[k], grad_W[len(dw) - k - 1])\n",
        "      for k in range(len(db)):\n",
        "        db[k] = np.add(db[k], grad_b[len(db) - k - 1])\n",
        "      batch-=1\n",
        "\n",
        "      if batch == 0:\n",
        "        for k in range(len(dw)):\n",
        "          W[k] = np.subtract(W[k],(eta * dw[k]/batch_size)) - eta * alpha * W[k]\n",
        "        for i in range(len(db)):\n",
        "          b[k] = np.subtract(b[k],(eta * db[k]/batch_size))\n",
        "        batch = batch_size\n",
        "\n",
        "      if (loss_type == \"cross_entropy\"):\n",
        "        loss += cross_entropy_loss(y_pred, y_train[i])\n",
        "      else :\n",
        "        loss += mean_squared_error(y_pred, y_train[i])\n",
        "\n",
        "    sum_loss = 0\n",
        "    for i in range(len(W)):\n",
        "      sum_loss += np.sum(np.square(W[i]))\n",
        "    sum_loss = sum_loss * alpha / 2\n",
        "\n",
        "    wandb.log({\"Epoch : \": j+1})\n",
        "    wandb.log({\"Training loss: \" : (loss + sum_loss) /54000})\n",
        "\n",
        "    training_accuracy(x_train, activation_func, W, b, n, y_train, neurons)\n",
        "\n",
        "    validation_loss_and_accuracy(x_train, activation_func, W, b, n, y_train, neurons, sum_loss)\n",
        "  return W,b\n",
        "\n"
      ]
    },
    {
      "cell_type": "markdown",
      "metadata": {
        "id": "5Y2zNyWo1yl5"
      },
      "source": [
        "**Momentum Gradient Descent**"
      ]
    },
    {
      "cell_type": "code",
      "execution_count": 23,
      "metadata": {
        "id": "D8CDMUBrsXpl"
      },
      "outputs": [],
      "source": [
        "def momentum(n, neurons, epochs, alpha, eta, batch_size, activation_func, W, b, loss_type, x_train, y_train):\n",
        "  batch = batch_size\n",
        "  beta = 0.9\n",
        "  prev_vw = [np.zeros_like(w) for w in W]\n",
        "  prev_vb = [np.zeros_like(bias) for bias in b]\n",
        "\n",
        "  for j in range(epochs):\n",
        "    loss = 0\n",
        "    for i in range(int(0.9 * len(x_train))):\n",
        "\n",
        "      if batch == batch_size:\n",
        "        dw = [np.zeros_like(w) for w in W]\n",
        "        db = [np.zeros_like(bias) for bias in b]\n",
        "        vw = [np.zeros_like(w) for w in W]\n",
        "        vb = [np.zeros_like(bias) for bias in b]\n",
        "      grad_W, grad_b, y_pred = gradient_descent(activation_func, x_train[i].flatten().reshape(784,1), y_train[i], W, b, n, neurons, loss_type)\n",
        "\n",
        "      for k in range(len(dw)):\n",
        "        dw[k] = np.add(dw[k], grad_W[len(dw) - k - 1])\n",
        "      for k in range(len(db)):\n",
        "        db[k] = np.add(db[k], grad_b[len(db) - k - 1])\n",
        "      batch-=1\n",
        "\n",
        "      if batch == 0:\n",
        "        for k in range(len(dw)):\n",
        "          vw[k] = np.add(vw[k],np.add(beta * prev_vw[k], eta* dw[k]/batch_size))\n",
        "          W[k] = np.subtract(W[k],vw[k]) - eta * alpha * W[k]\n",
        "        for k in range(len(db)):\n",
        "          vb[k] = np.add(vb[k],np.add(beta * prev_vb[k], eta* db[k]/batch_size))\n",
        "          b[k] = np.subtract(b[k],vb[k])\n",
        "        prev_vw = vw\n",
        "        prev_vb = vb\n",
        "        batch = batch_size\n",
        "      if (loss_type == \"cross_entropy\"):\n",
        "        loss += cross_entropy_loss(y_pred, y_train[i])\n",
        "      else :\n",
        "        loss += mean_squared_error(y_pred, y_train[i])\n",
        "\n",
        "    sum_loss = 0\n",
        "    for i in range(len(W)):\n",
        "      sum_loss += np.sum(np.square(W[i]))\n",
        "    sum_loss = sum_loss * alpha / 2\n",
        "\n",
        "    wandb.log({\"Epoch : \": j+1})\n",
        "    wandb.log({\"Training loss: \" : (loss + sum_loss) /54000})\n",
        "\n",
        "    training_accuracy(x_train, activation_func, W, b, n, y_train, neurons)\n",
        "\n",
        "    validation_loss_and_accuracy(x_train, activation_func, W, b, n, y_train, neurons, sum_loss)\n",
        "  return W, b\n",
        "\n"
      ]
    },
    {
      "cell_type": "markdown",
      "metadata": {
        "id": "ZJLyDCmDRf3a"
      },
      "source": [
        "**Nestrov Gradient Descent**"
      ]
    },
    {
      "cell_type": "code",
      "execution_count": 24,
      "metadata": {
        "id": "s92h8M0epBzo"
      },
      "outputs": [],
      "source": [
        "def nestrov(n, neurons, epochs, alpha, eta, batch_size, activation_func, W, b, loss_type, x_train, y_train):\n",
        "  batch = batch_size\n",
        "  beta = 0.9\n",
        "  prev_vw = [np.zeros_like(w) for w in W]\n",
        "  prev_vb = [np.zeros_like(bias) for bias in b]\n",
        "  vw = [np.zeros_like(w) for w in W]\n",
        "  vb = [np.zeros_like(bias) for bias in b]\n",
        "\n",
        "  for j in range(epochs):\n",
        "    loss = 0\n",
        "    for i in range(int(0.9 * len(x_train))):\n",
        "      if batch == batch_size:\n",
        "        dw = [np.zeros_like(w) for w in W]\n",
        "        db = [np.zeros_like(bias) for bias in b]\n",
        "        W_new = [np.zeros_like(w) for w in W]\n",
        "        b_new = [np.zeros_like(bias) for bias in b]\n",
        "        for k in range(len(dw)):\n",
        "          vw[k] = beta * prev_vw[k]\n",
        "        for k in range(len(db)):\n",
        "          vb[k] = beta * prev_vb[k]\n",
        "        for k in range(len(dw)):\n",
        "          W_new[k] = np.subtract(W[k],vw[k])\n",
        "        for k in range(len(db)):\n",
        "          b_new[k] = np.subtract(b[k],vb[k])\n",
        "\n",
        "      grad_W, grad_b, y_pred = gradient_descent(activation_func, x_train[i].flatten().reshape(784,1), y_train[i], W_new, b_new, n, neurons, loss_type)\n",
        "\n",
        "      for k in range(len(dw)):\n",
        "        dw[k] = np.add(dw[k], grad_W[len(dw) - k - 1])\n",
        "      for k in range(len(db)):\n",
        "        db[k] = np.add(db[k], grad_b[len(db) - k - 1])\n",
        "      batch-=1\n",
        "\n",
        "      if batch == 0:\n",
        "        for k in range(len(dw)):\n",
        "          vw[k] = np.add(vw[k],eta* dw[k]/batch_size)\n",
        "          W[k] = np.subtract(W[k],vw[k]) - eta * alpha * W[k]\n",
        "        for k in range(len(db)):\n",
        "          vb[k] = np.add(vb[k],eta*db[k]/batch_size)\n",
        "          b[k] = np.subtract(b[k],vb[k])\n",
        "        prev_vw = vw\n",
        "        prev_vb = vb\n",
        "        batch = batch_size\n",
        "      if (loss_type == \"cross_entropy\"):\n",
        "        loss += cross_entropy_loss(y_pred, y_train[i])\n",
        "      else :\n",
        "        loss += mean_squared_error(y_pred, y_train[i])\n",
        "\n",
        "    sum_loss = 0\n",
        "    for i in range(len(W)):\n",
        "      sum_loss += np.sum(np.square(W[i]))\n",
        "    sum_loss = sum_loss * alpha / 2\n",
        "\n",
        "    wandb.log({\"Epoch : \": j+1})\n",
        "    wandb.log({\"Training loss: \" : (loss + sum_loss) /54000})\n",
        "\n",
        "    training_accuracy(x_train, activation_func, W, b, n, y_train, neurons)\n",
        "\n",
        "    validation_loss_and_accuracy(x_train, activation_func, W, b, n, y_train, neurons, sum_loss)\n",
        "  return W, b\n",
        "\n",
        "\n"
      ]
    },
    {
      "cell_type": "markdown",
      "source": [
        "**RMS Prop Gradient Descent**"
      ],
      "metadata": {
        "id": "HCaymMmFVvmr"
      }
    },
    {
      "cell_type": "code",
      "source": [
        "def rmsprop(n, neurons, epochs, alpha, eta, batch_size, activation_func, W, b, loss_type, x_train, y_train):\n",
        "  batch = batch_size\n",
        "  eps = 1e-10\n",
        "  beta = 0.9\n",
        "  vw = [np.zeros_like(w) for w in W]\n",
        "  vb = [np.zeros_like(bias) for bias in b]\n",
        "\n",
        "  for j in range(epochs):\n",
        "    loss = 0\n",
        "    for i in range(int(0.9 * len(x_train))):\n",
        "      if batch == batch_size:\n",
        "        dw = [np.zeros_like(w) for w in W]\n",
        "        db = [np.zeros_like(bias) for bias in b]\n",
        "\n",
        "      grad_W, grad_b, y_pred = gradient_descent(activation_func, x_train[i].flatten().reshape(784,1), y_train[i], W, b, n, neurons, loss_type)\n",
        "\n",
        "      for k in range(len(dw)):\n",
        "        dw[k] = np.add(dw[k], grad_W[len(dw) - k - 1])\n",
        "      for k in range(len(db)):\n",
        "        db[k] = np.add(db[k], grad_b[len(db) - k - 1])\n",
        "      batch-=1\n",
        "\n",
        "      if batch == 0:\n",
        "        for k in range(len(dw)):\n",
        "          vw[k] = np.add(beta * vw[k],(1 - beta)* (dw[k]/batch_size)**2)\n",
        "          W[k] = np.subtract(W[k],eta * (dw[k]/batch_size) / (np.sqrt(vw[k]) + eps)) - eta * alpha * W[k]\n",
        "        for k in range(len(db)):\n",
        "          vb[k] = np.add(beta * vb[k],(1 - beta)*(db[k]/batch_size)**2)\n",
        "          b[k] = np.subtract(b[k],eta * (db[k]/batch_size) / (np.sqrt(vb[k]) + eps))\n",
        "        batch = batch_size\n",
        "      if (loss_type == \"cross_entropy\"):\n",
        "        loss += cross_entropy_loss(y_pred, y_train[i])\n",
        "      else :\n",
        "        loss += mean_squared_error(y_pred, y_train[i])\n",
        "\n",
        "    sum_loss = 0\n",
        "    for i in range(len(W)):\n",
        "      sum_loss += np.sum(np.square(W[i]))\n",
        "    sum_loss = sum_loss * alpha / 2\n",
        "\n",
        "    wandb.log({\"Epoch : \": j+1})\n",
        "    wandb.log({\"Training loss: \" : (loss + sum_loss) /54000})\n",
        "\n",
        "    training_accuracy(x_train, activation_func, W, b, n, y_train, neurons)\n",
        "\n",
        "    validation_loss_and_accuracy(x_train, activation_func, W, b, n, y_train, neurons, sum_loss)\n",
        "  return W, b\n",
        "\n"
      ],
      "metadata": {
        "id": "hvbrAMBDhxt4"
      },
      "execution_count": 25,
      "outputs": []
    },
    {
      "cell_type": "markdown",
      "source": [
        "**Adam Gradient Descent**"
      ],
      "metadata": {
        "id": "awd7uKz_gRDB"
      }
    },
    {
      "cell_type": "code",
      "source": [
        "def adam(n, neurons, epochs, alpha, eta, batch_size, activation_func, W, b, loss_type, x_train, y_train):\n",
        "  batch = batch_size\n",
        "\n",
        "  eps = 1e-10\n",
        "  beta1 = 0.9\n",
        "  beta2 = 0.999\n",
        "\n",
        "  mw = [np.zeros_like(w) for w in W]\n",
        "  mb = [np.zeros_like(bias) for bias in b]\n",
        "  mw_hat = [np.zeros_like(w) for w in W]\n",
        "  mb_hat = [np.zeros_like(bias) for bias in b]\n",
        "  vw = [np.zeros_like(w) for w in W]\n",
        "  vb = [np.zeros_like(bias) for bias in b]\n",
        "  vw_hat = [np.zeros_like(w) for w in W]\n",
        "  vb_hat = [np.zeros_like(bias) for bias in b]\n",
        "\n",
        "  t = 0\n",
        "  for j in range(epochs):\n",
        "    loss = 0\n",
        "    for i in range(int(0.9 * len(x_train))):\n",
        "      if batch == batch_size:\n",
        "        dw = [np.zeros_like(w) for w in W]\n",
        "        db = [np.zeros_like(bias) for bias in b]\n",
        "\n",
        "      grad_W, grad_b, y_pred = gradient_descent(activation_func, x_train[i].flatten().reshape(784,1), y_train[i], W, b, n, neurons, loss_type)\n",
        "\n",
        "      for k in range(len(dw)):\n",
        "        dw[k] = np.add(dw[k], grad_W[len(dw) - k - 1])\n",
        "      for k in range(len(db)):\n",
        "        db[k] = np.add(db[k], grad_b[len(db) - k - 1])\n",
        "      batch-=1\n",
        "\n",
        "      if batch == 0:\n",
        "        for k in range(len(dw)):\n",
        "          mw[k] = np.add(beta1 * mw[k], (1 - beta1) * (dw[k]/batch_size))\n",
        "          vw[k] = np.add(beta2 * vw[k], (1 - beta2) * (dw[k]/batch_size)**2)\n",
        "        for k in range(len(db)):\n",
        "          mb[k] = np.add(beta1 * mb[k], (1 - beta1) * (db[k]/batch_size))\n",
        "          vb[k] = np.add(beta2 * vb[k], (1 - beta2) * (db[k]/batch_size)**2)\n",
        "\n",
        "        for k in range(len(dw)):\n",
        "          mw_hat[k] = mw[k]/(1 - np.power(beta1, t+1))\n",
        "          vw_hat[k] = vw[k]/(1 - np.power(beta2, t+1))\n",
        "        for k in range(len(db)):\n",
        "          mb_hat[k] = mb[k]/(1 - np.power(beta1, t+1))\n",
        "          vb_hat[k] = vb[k]/(1 - np.power(beta2, t+1))\n",
        "\n",
        "        for k in range(len(dw)):\n",
        "          W[k] = np.subtract(W[k],eta * mw_hat[k] / (np.sqrt(vw_hat[k]) + eps)) - eta * alpha * W[k]\n",
        "        for k in range(len(db)):\n",
        "          b[k] = np.subtract(b[k],eta * mb_hat[k] / (np.sqrt(vb_hat[k]) + eps))\n",
        "        batch = batch_size\n",
        "        t+=1\n",
        "      if (loss_type == \"cross_entropy\"):\n",
        "        loss += cross_entropy_loss(y_pred, y_train[i])\n",
        "      else :\n",
        "        loss += mean_squared_error(y_pred, y_train[i])\n",
        "\n",
        "    sum_loss = 0\n",
        "    for i in range(len(W)):\n",
        "      sum_loss += np.sum(np.square(W[i]))\n",
        "    sum_loss = sum_loss * alpha / 2\n",
        "\n",
        "    # wandb.log({\"Epoch : \": j+1})\n",
        "    # wandb.log({\"Training loss: \" : (loss + sum_loss) /54000})\n",
        "\n",
        "    print(\"Epoch\", j+1)\n",
        "    print(\"Training loss: \", (loss+sum_loss)/ 54000)\n",
        "\n",
        "    training_accuracy(x_train, activation_func, W, b, n, y_train, neurons)\n",
        "\n",
        "    validation_loss_and_accuracy(x_train, activation_func, W, b, n, y_train, neurons, sum_loss)\n",
        "  return W, b\n",
        "\n",
        "\n"
      ],
      "metadata": {
        "id": "Oa6IZHXSetYa"
      },
      "execution_count": 26,
      "outputs": []
    },
    {
      "cell_type": "markdown",
      "source": [
        "**NAdam Gradient Descent**"
      ],
      "metadata": {
        "id": "GwM_ch8dldoQ"
      }
    },
    {
      "cell_type": "code",
      "source": [
        "def nadam(n, neurons, epochs, alpha, eta, batch_size, activation_func, W, b, loss_type, x_train, y_train):\n",
        "\n",
        "  batch = batch_size\n",
        "\n",
        "  eps = 1e-10\n",
        "  beta1 = 0.9\n",
        "  beta2 = 0.999\n",
        "\n",
        "  mw = [np.zeros_like(w) for w in W]\n",
        "  mb = [np.zeros_like(bias) for bias in b]\n",
        "  mw_hat = [np.zeros_like(w) for w in W]\n",
        "  mb_hat = [np.zeros_like(bias) for bias in b]\n",
        "  vw = [np.zeros_like(w) for w in W]\n",
        "  vb = [np.zeros_like(bias) for bias in b]\n",
        "  vw_hat = [np.zeros_like(w) for w in W]\n",
        "  vb_hat = [np.zeros_like(bias) for bias in b]\n",
        "\n",
        "  t = 1\n",
        "  for j in range(epochs):\n",
        "    loss = 0\n",
        "    for i in range(int(0.9 * len(x_train))):\n",
        "      if batch == batch_size:\n",
        "        dw = [np.zeros_like(w) for w in W]\n",
        "        db = [np.zeros_like(bias) for bias in b]\n",
        "\n",
        "      grad_W, grad_b, y_pred = gradient_descent(activation_func, x_train[i].flatten().reshape(784,1), y_train[i], W, b, n, neurons, loss_type)\n",
        "\n",
        "      for k in range(len(dw)):\n",
        "        dw[k] = np.add(dw[k], grad_W[len(dw) - k - 1])\n",
        "      for k in range(len(db)):\n",
        "        db[k] = np.add(db[k], grad_b[len(db) - k - 1])\n",
        "      batch-=1\n",
        "\n",
        "      if batch == 0:\n",
        "        for k in range(len(dw)):\n",
        "          mw[k] = np.add(beta1 * mw[k], (1 - beta1) * (dw[k]/batch_size))\n",
        "          vw[k] = np.add(beta2 * vw[k], (1 - beta2) * (dw[k]/batch_size)**2)\n",
        "        for k in range(len(db)):\n",
        "          mb[k] = np.add(beta1 * mb[k], (1 - beta1) * (db[k]/batch_size))\n",
        "          vb[k] = np.add(beta2 * vb[k], (1 - beta2) * (db[k]/batch_size)**2)\n",
        "\n",
        "        for k in range(len(dw)):\n",
        "          mw_hat[k] = mw[k]/(1 - np.power(beta1, j+1))\n",
        "          vw_hat[k] = vw[k]/(1 - np.power(beta2, j+1))\n",
        "        for k in range(len(db)):\n",
        "          mb_hat[k] = mb[k]/(1 - np.power(beta1, j+1))\n",
        "          vb_hat[k] = vb[k]/(1 - np.power(beta2, j+1))\n",
        "\n",
        "        for k in range(len(dw)):\n",
        "          W[k] = np.subtract(W[k],(eta / (np.sqrt(vw_hat[k]) + eps)) * np.add((beta1 * mw_hat[k]), (1 - beta1) * (dw[k] / batch_size) / (1-beta1**(t + 1)))) - eta * alpha * W[k]\n",
        "        for k in range(len(db)):\n",
        "          b[k] = np.subtract(b[k],(eta / (np.sqrt(vb_hat[k]) + eps)) * np.add((beta1 * mb_hat[k]), (1 - beta1) * (db[k] / batch_size) / (1-beta1**(t + 1))) )\n",
        "        batch = batch_size\n",
        "        t+=1\n",
        "      if (loss_type == \"cross_entropy\"):\n",
        "        loss += cross_entropy_loss(y_pred, y_train[i])\n",
        "      else :\n",
        "        loss += mean_squared_error(y_pred, y_train[i])\n",
        "\n",
        "    sum_loss = 0\n",
        "    for i in range(len(W)):\n",
        "      sum_loss += np.sum(np.square(W[i]))\n",
        "    sum_loss = sum_loss * alpha / 2\n",
        "\n",
        "    # wandb.log({\"Epoch : \": j+1})\n",
        "    # wandb.log({\"Training loss: \" : (loss + sum_loss) /54000})\n",
        "\n",
        "    print(\"Epoch\", j+1)\n",
        "    print(\"Training loss: \", (loss+sum_loss)/ 54000)\n",
        "\n",
        "    training_accuracy(x_train, activation_func, W, b, n, y_train, neurons)\n",
        "\n",
        "    validation_loss_and_accuracy(x_train, activation_func, W, b, n, y_train, neurons, sum_loss)\n",
        "  return W, b\n",
        "\n"
      ],
      "metadata": {
        "id": "2qSVo5Briu6T"
      },
      "execution_count": 27,
      "outputs": []
    },
    {
      "cell_type": "code",
      "execution_count": 28,
      "metadata": {
        "id": "VCCGuhTW1_HD"
      },
      "outputs": [],
      "source": [
        "# n = int(input(\"Enter number of hidden layers: \"))\n",
        "# neurons = int(input(\"Enter number of neurons in hidden layer: \"))\n",
        "# epochs = int(input(\"Enter number of epochs: \"))\n",
        "# alpha = float(input(\"Enter weight decay: \"))\n",
        "# eta = float(input(\"Enter learning rate: \"))\n",
        "# batch_size = int(input(\"Enter batch size: \"))\n",
        "# initialization = input(\"Enter initialization method: \")\n",
        "# activation_func = input(\"Enter activation function: \")"
      ]
    },
    {
      "cell_type": "code",
      "source": [
        "# optimizer = input(\"Enter optimizer: \")"
      ],
      "metadata": {
        "id": "ywgqJ217AMro"
      },
      "execution_count": 29,
      "outputs": []
    },
    {
      "cell_type": "code",
      "source": [
        "\n",
        "# if initialization == \"Xavier\":\n",
        "#   W, b= xavier_initialization(len(x_train[0].flatten()), n, neurons)\n",
        "# elif initialization == \"random\":\n",
        "#   W, b= initialize_param(len(x_train[0].flatten()), n, neurons)\n",
        "\n",
        "# if (optimizer == \"sgd\"):\n",
        "#   sgd(n, neurons, epochs, alpha, eta, 1, activation_func, W, b)\n",
        "# elif (optimizer == \"momentum\"):\n",
        "#   momentum(n, neurons, epochs, alpha, eta, batch_size, activation_func, W, b)\n",
        "# elif(optimizer == \"nestrov\"):\n",
        "#   nestrov(n, neurons, epochs, alpha, eta, batch_size, activation_func, W, b)\n",
        "# elif (optimizer == \"rmsprop\"):\n",
        "#   rmsprop(n, neurons, epochs, alpha, eta, batch_size, activation_func, W, b)\n",
        "# elif (optimizer == \"adam\"):\n",
        "#   adam(n, neurons, epochs, alpha, eta, batch_size, activation_func, W, b)\n",
        "# elif (optimizer == \"nadam\"):\n",
        "#   nadam(n, neurons, epochs, alpha, eta, batch_size, activation_func, W, b)\n",
        "\n"
      ],
      "metadata": {
        "id": "1twZq4Xv3sML"
      },
      "execution_count": 30,
      "outputs": []
    },
    {
      "cell_type": "code",
      "source": [
        "!pip install wandb\n"
      ],
      "metadata": {
        "colab": {
          "base_uri": "https://localhost:8080/"
        },
        "id": "F7mVBWK6Ez1L",
        "outputId": "2119dced-b7a7-4f48-d645-6289ebf4ebcf"
      },
      "execution_count": 31,
      "outputs": [
        {
          "output_type": "stream",
          "name": "stdout",
          "text": [
            "Requirement already satisfied: wandb in /usr/local/lib/python3.10/dist-packages (0.16.4)\n",
            "Requirement already satisfied: Click!=8.0.0,>=7.1 in /usr/local/lib/python3.10/dist-packages (from wandb) (8.1.7)\n",
            "Requirement already satisfied: GitPython!=3.1.29,>=1.0.0 in /usr/local/lib/python3.10/dist-packages (from wandb) (3.1.42)\n",
            "Requirement already satisfied: requests<3,>=2.0.0 in /usr/local/lib/python3.10/dist-packages (from wandb) (2.31.0)\n",
            "Requirement already satisfied: psutil>=5.0.0 in /usr/local/lib/python3.10/dist-packages (from wandb) (5.9.5)\n",
            "Requirement already satisfied: sentry-sdk>=1.0.0 in /usr/local/lib/python3.10/dist-packages (from wandb) (1.42.0)\n",
            "Requirement already satisfied: docker-pycreds>=0.4.0 in /usr/local/lib/python3.10/dist-packages (from wandb) (0.4.0)\n",
            "Requirement already satisfied: PyYAML in /usr/local/lib/python3.10/dist-packages (from wandb) (6.0.1)\n",
            "Requirement already satisfied: setproctitle in /usr/local/lib/python3.10/dist-packages (from wandb) (1.3.3)\n",
            "Requirement already satisfied: setuptools in /usr/local/lib/python3.10/dist-packages (from wandb) (67.7.2)\n",
            "Requirement already satisfied: appdirs>=1.4.3 in /usr/local/lib/python3.10/dist-packages (from wandb) (1.4.4)\n",
            "Requirement already satisfied: protobuf!=4.21.0,<5,>=3.19.0 in /usr/local/lib/python3.10/dist-packages (from wandb) (3.20.3)\n",
            "Requirement already satisfied: six>=1.4.0 in /usr/local/lib/python3.10/dist-packages (from docker-pycreds>=0.4.0->wandb) (1.16.0)\n",
            "Requirement already satisfied: gitdb<5,>=4.0.1 in /usr/local/lib/python3.10/dist-packages (from GitPython!=3.1.29,>=1.0.0->wandb) (4.0.11)\n",
            "Requirement already satisfied: charset-normalizer<4,>=2 in /usr/local/lib/python3.10/dist-packages (from requests<3,>=2.0.0->wandb) (3.3.2)\n",
            "Requirement already satisfied: idna<4,>=2.5 in /usr/local/lib/python3.10/dist-packages (from requests<3,>=2.0.0->wandb) (3.6)\n",
            "Requirement already satisfied: urllib3<3,>=1.21.1 in /usr/local/lib/python3.10/dist-packages (from requests<3,>=2.0.0->wandb) (2.0.7)\n",
            "Requirement already satisfied: certifi>=2017.4.17 in /usr/local/lib/python3.10/dist-packages (from requests<3,>=2.0.0->wandb) (2024.2.2)\n",
            "Requirement already satisfied: smmap<6,>=3.0.1 in /usr/local/lib/python3.10/dist-packages (from gitdb<5,>=4.0.1->GitPython!=3.1.29,>=1.0.0->wandb) (5.0.1)\n"
          ]
        }
      ]
    },
    {
      "cell_type": "code",
      "source": [
        "import wandb\n",
        "wandb.login()"
      ],
      "metadata": {
        "colab": {
          "base_uri": "https://localhost:8080/"
        },
        "id": "EFJuFAI5SX3f",
        "outputId": "a8297848-c0b0-4824-ef97-899363081c14"
      },
      "execution_count": 32,
      "outputs": [
        {
          "output_type": "execute_result",
          "data": {
            "text/plain": [
              "True"
            ]
          },
          "metadata": {},
          "execution_count": 32
        }
      ]
    },
    {
      "cell_type": "code",
      "source": [
        "sweep_config = {\n",
        "    'method': 'bayes',  # or 'grid', 'bayes', etc. for different search methods\n",
        "    'metric': {\n",
        "        'name': 'Validation Acc: ',  # Change 'accuracy' to the name of your metric\n",
        "        'goal': 'maximize'   # or 'minimize' if it's a loss metric\n",
        "    },\n",
        "    'parameters': {\n",
        "        'num_epochs': {\n",
        "            'values': [5, 10]\n",
        "        },\n",
        "        'num_hidden_layers': {\n",
        "            'values': [3, 4, 5]\n",
        "        },\n",
        "        'hidden_layer_size': {\n",
        "            'values': [32, 64, 128]\n",
        "        },\n",
        "        'weight_decay': {\n",
        "            'values': [0, 0.0005, 0.5]\n",
        "        },\n",
        "        'learning_rate': {\n",
        "            'values': [1e-3, 1e-4]\n",
        "        },\n",
        "        'optimizer': {\n",
        "            'values': ['sgd', 'momentum', 'nesterov', 'rmsprop', 'adam', 'nadam']\n",
        "        },\n",
        "        'batch_size': {\n",
        "            'values': [16, 32, 64]\n",
        "        },\n",
        "        'weight_initialization': {\n",
        "            'values': ['random', 'Xavier']\n",
        "        },\n",
        "        'activation_function': {\n",
        "            'values': ['sigmoid', 'tanh', 'ReLU']\n",
        "        },\n",
        "        'loss_type': {\n",
        "            'values': ['mean_squared_error', 'cross_entropy']\n",
        "        }\n",
        "    }\n",
        "}"
      ],
      "metadata": {
        "id": "Nikvy8EkTNOR"
      },
      "execution_count": 33,
      "outputs": []
    },
    {
      "cell_type": "code",
      "source": [
        "sweep_id = wandb.sweep(sweep_config, project='DL-Assignment-1')"
      ],
      "metadata": {
        "id": "6q9AfQZ6UF_S"
      },
      "execution_count": 34,
      "outputs": []
    },
    {
      "cell_type": "code",
      "source": [
        "def train():\n",
        "    with wandb.init() as run:\n",
        "        config=wandb.config\n",
        "\n",
        "        # n = config['num_hidden_layers']\n",
        "        # neurons = config['hidden_layer_size']\n",
        "        # epochs = config['num_epochs']\n",
        "        # alpha = config['weight_decay']\n",
        "        # eta = config['learning_rate']\n",
        "        # batch_size = config['batch_size']\n",
        "        # activation_func = config['activation_function']\n",
        "        # init = config['weight_initialization']\n",
        "        # optimizer = config['optimizer']\n",
        "        # loss_type = config['loss_type']\n",
        "\n",
        "        ########## First best hyperparameter configuration #############\n",
        "        # n = 3\n",
        "        # neurons = 128\n",
        "        # epochs = 10\n",
        "        # alpha = 0.0005\n",
        "        # eta = 0.001\n",
        "        # batch_size = 16\n",
        "        # activation_func = \"ReLU\"\n",
        "        # init = \"Xavier\"\n",
        "        # optimizer = \"nadam\"\n",
        "        # loss_type = \"cross_entropy\"\n",
        "        # dataset = \"mnist\"\n",
        "\n",
        "        ########## Second best hyperparameter configuration #############\n",
        "        # n = 5\n",
        "        # neurons = 64\n",
        "        # epochs = 10\n",
        "        # alpha = 0.0005\n",
        "        # eta = 0.001\n",
        "        # batch_size = 64\n",
        "        # activation_func = \"tanh\"\n",
        "        # init = \"Xavier\"\n",
        "        # optimizer = \"adam\"\n",
        "        # loss_type = \"cross_entropy\"\n",
        "        # dataset = \"mnist\"\n",
        "\n",
        "\n",
        "        ########## Third best hyperparameter configuration #############\n",
        "        # n = 4\n",
        "        # neurons = 128\n",
        "        # epochs = 10\n",
        "        # alpha = 0.0005\n",
        "        # eta = 0.001\n",
        "        # batch_size = 64\n",
        "        # activation_func = \"ReLU\"\n",
        "        # init = \"Xavier\"\n",
        "        # optimizer = \"adam\"\n",
        "        # loss_type = \"cross_entropy\"\n",
        "        # dataset = \"mnist\"\n",
        "\n",
        "\n",
        "        ####### If we want to run mnist data\n",
        "        # run_name=\"hl_\"+ str(n) + \"_bs_\" + str(batch_size) + \"_ac_\" + str(activation_func)+\"mnist\"\n",
        "        # wandb.run.name=run_name\n",
        "\n",
        "        # if dataset == \"fashion_mnist\":\n",
        "        #   (x_train, y_train), (x_test, y_test) = fashion_mnist.load_data()\n",
        "        #   x_train = x_train/255\n",
        "        #   x_test = x_test/255\n",
        "        # elif dataset == \"mnist\":\n",
        "        #   (x_train, y_train), (x_test, y_test) = mnist.load_data()\n",
        "        #   x_train = x_train/255\n",
        "        #   x_test = x_test/255\n",
        "\n",
        "        (x_train, y_train), (x_test, y_test) = fashion_mnist.load_data()\n",
        "        x_train = x_train/255\n",
        "        x_test = x_test/255\n",
        "\n",
        "        print(n, neurons, epochs, alpha, eta, batch_size, activation_func, optimizer)\n",
        "\n",
        "\n",
        "        if init == \"Xavier\":\n",
        "            W, b= xavier_initialization(len(x_train[0].flatten()), n, neurons)\n",
        "        elif init == \"random\":\n",
        "            W, b= initialize_param(len(x_train[0].flatten()), n, neurons)\n",
        "\n",
        "        if (optimizer == \"sgd\"):\n",
        "            W,b = sgd(n, neurons, epochs, alpha, eta, 1, activation_func, W, b, loss_type, x_train, y_train)\n",
        "        elif (optimizer  == \"momentum\"):\n",
        "            W,b = momentum(n, neurons, epochs, alpha, eta, batch_size, activation_func, W, b, loss_type, x_train, y_train)\n",
        "        elif(optimizer  == \"nesterov\"):\n",
        "            W,b = nestrov(n, neurons, epochs, alpha, eta, batch_size, activation_func, W, b,loss_type, x_train, y_train)\n",
        "        elif (optimizer  == \"rmsprop\"):\n",
        "            W,b = rmsprop(n, neurons, epochs, alpha, eta, batch_size, activation_func, W, b,loss_type, x_train, y_train)\n",
        "        elif (optimizer  == \"adam\"):\n",
        "            W,b = adam(n, neurons, epochs, alpha, eta, batch_size, activation_func, W, b,loss_type, x_train, y_train)\n",
        "        elif (optimizer  == \"nadam\"):\n",
        "            W,b = nadam(n, neurons, epochs, alpha, eta, batch_size, activation_func, W, b,loss_type, x_train, y_train)\n"
      ],
      "metadata": {
        "id": "IV2kIhYnUKA8"
      },
      "execution_count": 35,
      "outputs": []
    },
    {
      "cell_type": "code",
      "source": [
        "def run_sweep():\n",
        "    # Run the sweep\n",
        "    wandb.agent(sweep_id, function=train,count=1)\n",
        "    wandb.finish()"
      ],
      "metadata": {
        "id": "Z_R0TQqkUN-7"
      },
      "execution_count": 36,
      "outputs": []
    },
    {
      "cell_type": "code",
      "source": [
        "run_sweep()"
      ],
      "metadata": {
        "id": "dJtqvuVeURQ9"
      },
      "execution_count": 37,
      "outputs": []
    },
    {
      "cell_type": "markdown",
      "source": [
        "#Confusion Matrix\n"
      ],
      "metadata": {
        "id": "QNNr9e7ndPXi"
      }
    },
    {
      "cell_type": "code",
      "source": [
        "n = 3\n",
        "neurons = 128\n",
        "epochs = 10\n",
        "alpha = 0.0005\n",
        "eta = 0.001\n",
        "batch_size = 16\n",
        "activation_func = \"ReLU\"\n",
        "init = \"Xavier\"\n",
        "optimizer = \"nadam\"\n",
        "loss_type = \"cross_entropy\"\n",
        "\n",
        "(x_train, y_train), (x_test, y_test) = fashion_mnist.load_data()\n",
        "x_train = x_train/255\n",
        "x_test = x_test/255\n",
        "\n",
        "if init == \"Xavier\":\n",
        "  W, b= xavier_initialization(len(x_train[0].flatten()), n, neurons)\n",
        "elif init == \"random\":\n",
        "  W, b= initialize_param(len(x_train[0].flatten()), n, neurons)\n",
        "\n",
        "if (optimizer == \"sgd\"):\n",
        "  W, b=sgd(n, neurons, epochs, alpha, eta, 1, activation_func, W, b, loss_type)\n",
        "elif (optimizer  == \"momentum\"):\n",
        "  W, b=momentum(n, neurons, epochs, alpha, eta, batch_size, activation_func, W, b, loss_type)\n",
        "elif(optimizer  == \"nesterov\"):\n",
        "  W, b=nestrov(n, neurons, epochs, alpha, eta, batch_size, activation_func, W, b, loss_type)\n",
        "elif (optimizer  == \"rmsprop\"):\n",
        "  W, b=rmsprop(n, neurons, epochs, alpha, eta, batch_size, activation_func, W, b, loss_type)\n",
        "elif (optimizer  == \"adam\"):\n",
        "  W, b=adam(n, neurons, epochs, alpha, eta, batch_size, activation_func, W, b, loss_type)\n",
        "elif (optimizer  == \"nadam\"):\n",
        "  W, b=nadam(n, neurons, epochs, alpha, eta, batch_size, activation_func, W, b, loss_type)\n",
        "\n",
        "\n",
        "\n",
        "\n"
      ],
      "metadata": {
        "colab": {
          "base_uri": "https://localhost:8080/"
        },
        "id": "KbSsQgrjdOTN",
        "outputId": "632d72a9-96d4-4e27-e71c-65c888f7f11e"
      },
      "execution_count": 38,
      "outputs": [
        {
          "output_type": "stream",
          "name": "stdout",
          "text": [
            "Epoch 1\n",
            "Training loss:  0.4790019712615897\n",
            "Training Acc:  0.8624814814814815\n",
            "Validation loss:  0.4066107678761\n",
            "Validation Acc:  0.8466666666666667\n",
            "Epoch 2\n",
            "Training loss:  0.3551842929545123\n",
            "Training Acc:  0.8785555555555555\n",
            "Validation loss:  0.37011999483577174\n",
            "Validation Acc:  0.8556666666666667\n",
            "Epoch 3\n",
            "Training loss:  0.3178411151889069\n",
            "Training Acc:  0.8909814814814815\n",
            "Validation loss:  0.34712604050889256\n",
            "Validation Acc:  0.8688333333333333\n",
            "Epoch 4\n",
            "Training loss:  0.2928688413733894\n",
            "Training Acc:  0.8975\n",
            "Validation loss:  0.33605516130045243\n",
            "Validation Acc:  0.873\n",
            "Epoch 5\n",
            "Training loss:  0.27441650992467687\n",
            "Training Acc:  0.9034629629629629\n",
            "Validation loss:  0.32883637541113553\n",
            "Validation Acc:  0.8776666666666667\n",
            "Epoch 6\n",
            "Training loss:  0.2589692551093474\n",
            "Training Acc:  0.9086111111111111\n",
            "Validation loss:  0.3255178583829013\n",
            "Validation Acc:  0.8773333333333333\n",
            "Epoch 7\n",
            "Training loss:  0.2458192376998853\n",
            "Training Acc:  0.9118148148148149\n",
            "Validation loss:  0.32435288051348043\n",
            "Validation Acc:  0.8781666666666667\n",
            "Epoch 8\n",
            "Training loss:  0.2340693041822943\n",
            "Training Acc:  0.9135925925925926\n",
            "Validation loss:  0.327769355029864\n",
            "Validation Acc:  0.8791666666666667\n",
            "Epoch 9\n",
            "Training loss:  0.22353813237617184\n",
            "Training Acc:  0.9171851851851852\n",
            "Validation loss:  0.3256735256742019\n",
            "Validation Acc:  0.8811666666666667\n",
            "Epoch 10\n",
            "Training loss:  0.2137019408187326\n",
            "Training Acc:  0.9202962962962963\n",
            "Validation loss:  0.3281492245201708\n",
            "Validation Acc:  0.8811666666666667\n"
          ]
        }
      ]
    },
    {
      "cell_type": "code",
      "source": [
        "y_predicted = []\n",
        "for x in x_test:\n",
        "  a, h, y_pred = forward_propogation(activation_func, x.reshape(x.shape[0]*x.shape[1], 1), W, b, n, neurons)\n",
        "  y = np.argmax(y_pred)\n",
        "  y_predicted.append(y)\n",
        "\n"
      ],
      "metadata": {
        "id": "5sEtdzjZ_tHr"
      },
      "execution_count": 39,
      "outputs": []
    },
    {
      "cell_type": "code",
      "source": [
        "# print(len(y_predicted))\n",
        "# print(y_test.shape)\n",
        "# y_test = list(y_test)\n",
        "# print(len(y_test))"
      ],
      "metadata": {
        "id": "XLlpKoZKAJHt"
      },
      "execution_count": 40,
      "outputs": []
    },
    {
      "cell_type": "code",
      "source": [
        "from sklearn.metrics import confusion_matrix\n",
        "import seaborn as sns\n",
        "import matplotlib.pyplot as plt\n",
        "\n",
        "def plot_confusion_matrix(y_true, y_pred, labels):\n",
        "    # Create confusion matrix\n",
        "\n",
        "    cm = confusion_matrix(y_true, y_pred, labels=labels)\n",
        "\n",
        "    # Plot confusion matrix using seaborn\n",
        "    plt.figure(figsize=(10, 7))\n",
        "    sns.heatmap(cm, annot=True, fmt=\"d\", cmap=\"inferno\", xticklabels=labels, yticklabels=labels)\n",
        "\n",
        "    plt.xlabel('Predicted')\n",
        "    plt.ylabel('Actual')\n",
        "    plt.title('Confusion Matrix')\n",
        "    plt.savefig(\"Confusion_Matrix.jpeg\")\n",
        "    wandb.log({\"Confusion_Matrix\": wandb.Image(\"Confusion_Matrix.jpeg\")})\n",
        "\n",
        "    plt.show()\n",
        "\n",
        "# Determine unique labels\n",
        "labels = sorted(set(y_test))\n",
        "\n",
        "wandb.init(project=\"DL-Assignment-1\", name=\"confusion_matrix\")\n",
        "# Plot confusion matrix\n",
        "plot_confusion_matrix(y_test, y_predicted, labels)\n",
        "\n",
        "# Finish the run\n",
        "wandb.finish()\n"
      ],
      "metadata": {
        "colab": {
          "base_uri": "https://localhost:8080/",
          "height": 780,
          "referenced_widgets": [
            "615c9972a49d4c71afd0b3be2f459cf9",
            "2d667d148a7846c09cb554267349a157",
            "66bb56a7664f455e817de77bc7b1a972",
            "0a9184f19d5b4c14a2c2b0052eb89e26",
            "18809334a2794062aca49dd8a7dc8a0c",
            "dc5310b13c27472da2584cadb776b6b4",
            "66321df0ddd442e897a13c7b3d390303",
            "1dbb7ede89744b31b3d89d8589584c17"
          ]
        },
        "id": "iOYySy_Vji0G",
        "outputId": "1824a892-1111-49d1-8f41-6f522f3f9303"
      },
      "execution_count": 62,
      "outputs": [
        {
          "output_type": "display_data",
          "data": {
            "text/plain": [
              "<IPython.core.display.HTML object>"
            ],
            "text/html": [
              "Tracking run with wandb version 0.16.4"
            ]
          },
          "metadata": {}
        },
        {
          "output_type": "display_data",
          "data": {
            "text/plain": [
              "<IPython.core.display.HTML object>"
            ],
            "text/html": [
              "Run data is saved locally in <code>/content/wandb/run-20240316_215739-63cb4088</code>"
            ]
          },
          "metadata": {}
        },
        {
          "output_type": "display_data",
          "data": {
            "text/plain": [
              "<IPython.core.display.HTML object>"
            ],
            "text/html": [
              "Syncing run <strong><a href='https://wandb.ai/cs23m047/DL-Assignment-1/runs/63cb4088' target=\"_blank\">confusion_matrix</a></strong> to <a href='https://wandb.ai/cs23m047/DL-Assignment-1' target=\"_blank\">Weights & Biases</a> (<a href='https://wandb.me/run' target=\"_blank\">docs</a>)<br/>"
            ]
          },
          "metadata": {}
        },
        {
          "output_type": "display_data",
          "data": {
            "text/plain": [
              "<IPython.core.display.HTML object>"
            ],
            "text/html": [
              " View project at <a href='https://wandb.ai/cs23m047/DL-Assignment-1' target=\"_blank\">https://wandb.ai/cs23m047/DL-Assignment-1</a>"
            ]
          },
          "metadata": {}
        },
        {
          "output_type": "display_data",
          "data": {
            "text/plain": [
              "<IPython.core.display.HTML object>"
            ],
            "text/html": [
              " View run at <a href='https://wandb.ai/cs23m047/DL-Assignment-1/runs/63cb4088' target=\"_blank\">https://wandb.ai/cs23m047/DL-Assignment-1/runs/63cb4088</a>"
            ]
          },
          "metadata": {}
        },
        {
          "output_type": "display_data",
          "data": {
            "text/plain": [
              "<Figure size 1000x700 with 2 Axes>"
            ],
            "image/png": "[encoded data removed]"
          },
          "metadata": {}
        },
        {
          "output_type": "display_data",
          "data": {
            "text/plain": [
              "VBox(children=(Label(value='0.053 MB of 0.053 MB uploaded\\r'), FloatProgress(value=1.0, max=1.0)))"
            ],
            "application/vnd.jupyter.widget-view+json": {
              "version_major": 2,
              "version_minor": 0,
              "model_id": "615c9972a49d4c71afd0b3be2f459cf9"
            }
          },
          "metadata": {}
        },
        {
          "output_type": "display_data",
          "data": {
            "text/plain": [
              "<IPython.core.display.HTML object>"
            ],
            "text/html": [
              " View run <strong style=\"color:#cdcd00\">confusion_matrix</strong> at: <a href='https://wandb.ai/cs23m047/DL-Assignment-1/runs/63cb4088' target=\"_blank\">https://wandb.ai/cs23m047/DL-Assignment-1/runs/63cb4088</a><br/>Synced 4 W&B file(s), 1 media file(s), 0 artifact file(s) and 0 other file(s)"
            ]
          },
          "metadata": {}
        },
        {
          "output_type": "display_data",
          "data": {
            "text/plain": [
              "<IPython.core.display.HTML object>"
            ],
            "text/html": [
              "Find logs at: <code>./wandb/run-20240316_215739-63cb4088/logs</code>"
            ]
          },
          "metadata": {}
        }
      ]
    },
    {
      "cell_type": "code",
      "source": [],
      "metadata": {
        "id": "McxLzMfIedr6"
      },
      "execution_count": 41,
      "outputs": []
    }
  ],
  "metadata": {
    "colab": {
      "provenance": [],
      "authorship_tag": "ABX9TyOQ8XKBc+JYh6En1WW+LOGl",
      "include_colab_link": true
    },
    "kernelspec": {
      "display_name": "Python 3",
      "name": "python3"
    },
    "language_info": {
      "name": "python"
    },
    "widgets": {
      "application/vnd.jupyter.widget-state+json": {
        "21bf2895133843c39a12bb2f77a67fed": {
          "model_module": "@jupyter-widgets/controls",
          "model_name": "VBoxModel",
          "model_module_version": "1.5.0",
          "state": {
            "_dom_classes": [],
            "_model_module": "@jupyter-widgets/controls",
            "_model_module_version": "1.5.0",
            "_model_name": "VBoxModel",
            "_view_count": null,
            "_view_module": "@jupyter-widgets/controls",
            "_view_module_version": "1.5.0",
            "_view_name": "VBoxView",
            "box_style": "",
            "children": [
              "IPY_MODEL_ce4c088f1421454fa152a25644ed7b92",
              "IPY_MODEL_b442df251a9e41d2acd3a1c5a35c1d05"
            ],
            "layout": "IPY_MODEL_551d335a3da04840a1b66679057c92e1"
          }
        },
        "ce4c088f1421454fa152a25644ed7b92": {
          "model_module": "@jupyter-widgets/controls",
          "model_name": "LabelModel",
          "model_module_version": "1.5.0",
          "state": {
            "_dom_classes": [],
            "_model_module": "@jupyter-widgets/controls",
            "_model_module_version": "1.5.0",
            "_model_name": "LabelModel",
            "_view_count": null,
            "_view_module": "@jupyter-widgets/controls",
            "_view_module_version": "1.5.0",
            "_view_name": "LabelView",
            "description": "",
            "description_tooltip": null,
            "layout": "IPY_MODEL_15f2481ba3794ab3aa8f2a2de348c031",
            "placeholder": "​",
            "style": "IPY_MODEL_bf2988f97deb46adab3de4ef315a620d",
            "value": "0.015 MB of 0.015 MB uploaded\r"
          }
        },
        "b442df251a9e41d2acd3a1c5a35c1d05": {
          "model_module": "@jupyter-widgets/controls",
          "model_name": "FloatProgressModel",
          "model_module_version": "1.5.0",
          "state": {
            "_dom_classes": [],
            "_model_module": "@jupyter-widgets/controls",
            "_model_module_version": "1.5.0",
            "_model_name": "FloatProgressModel",
            "_view_count": null,
            "_view_module": "@jupyter-widgets/controls",
            "_view_module_version": "1.5.0",
            "_view_name": "ProgressView",
            "bar_style": "",
            "description": "",
            "description_tooltip": null,
            "layout": "IPY_MODEL_bf1eb15eee6a4464a58a693fdb27bad5",
            "max": 1,
            "min": 0,
            "orientation": "horizontal",
            "style": "IPY_MODEL_8e2586f4c4a24051b64142e72aef1219",
            "value": 1
          }
        },
        "551d335a3da04840a1b66679057c92e1": {
          "model_module": "@jupyter-widgets/base",
          "model_name": "LayoutModel",
          "model_module_version": "1.2.0",
          "state": {
            "_model_module": "@jupyter-widgets/base",
            "_model_module_version": "1.2.0",
            "_model_name": "LayoutModel",
            "_view_count": null,
            "_view_module": "@jupyter-widgets/base",
            "_view_module_version": "1.2.0",
            "_view_name": "LayoutView",
            "align_content": null,
            "align_items": null,
            "align_self": null,
            "border": null,
            "bottom": null,
            "display": null,
            "flex": null,
            "flex_flow": null,
            "grid_area": null,
            "grid_auto_columns": null,
            "grid_auto_flow": null,
            "grid_auto_rows": null,
            "grid_column": null,
            "grid_gap": null,
            "grid_row": null,
            "grid_template_areas": null,
            "grid_template_columns": null,
            "grid_template_rows": null,
            "height": null,
            "justify_content": null,
            "justify_items": null,
            "left": null,
            "margin": null,
            "max_height": null,
            "max_width": null,
            "min_height": null,
            "min_width": null,
            "object_fit": null,
            "object_position": null,
            "order": null,
            "overflow": null,
            "overflow_x": null,
            "overflow_y": null,
            "padding": null,
            "right": null,
            "top": null,
            "visibility": null,
            "width": null
          }
        },
        "15f2481ba3794ab3aa8f2a2de348c031": {
          "model_module": "@jupyter-widgets/base",
          "model_name": "LayoutModel",
          "model_module_version": "1.2.0",
          "state": {
            "_model_module": "@jupyter-widgets/base",
            "_model_module_version": "1.2.0",
            "_model_name": "LayoutModel",
            "_view_count": null,
            "_view_module": "@jupyter-widgets/base",
            "_view_module_version": "1.2.0",
            "_view_name": "LayoutView",
            "align_content": null,
            "align_items": null,
            "align_self": null,
            "border": null,
            "bottom": null,
            "display": null,
            "flex": null,
            "flex_flow": null,
            "grid_area": null,
            "grid_auto_columns": null,
            "grid_auto_flow": null,
            "grid_auto_rows": null,
            "grid_column": null,
            "grid_gap": null,
            "grid_row": null,
            "grid_template_areas": null,
            "grid_template_columns": null,
            "grid_template_rows": null,
            "height": null,
            "justify_content": null,
            "justify_items": null,
            "left": null,
            "margin": null,
            "max_height": null,
            "max_width": null,
            "min_height": null,
            "min_width": null,
            "object_fit": null,
            "object_position": null,
            "order": null,
            "overflow": null,
            "overflow_x": null,
            "overflow_y": null,
            "padding": null,
            "right": null,
            "top": null,
            "visibility": null,
            "width": null
          }
        },
        "bf2988f97deb46adab3de4ef315a620d": {
          "model_module": "@jupyter-widgets/controls",
          "model_name": "DescriptionStyleModel",
          "model_module_version": "1.5.0",
          "state": {
            "_model_module": "@jupyter-widgets/controls",
            "_model_module_version": "1.5.0",
            "_model_name": "DescriptionStyleModel",
            "_view_count": null,
            "_view_module": "@jupyter-widgets/base",
            "_view_module_version": "1.2.0",
            "_view_name": "StyleView",
            "description_width": ""
          }
        },
        "bf1eb15eee6a4464a58a693fdb27bad5": {
          "model_module": "@jupyter-widgets/base",
          "model_name": "LayoutModel",
          "model_module_version": "1.2.0",
          "state": {
            "_model_module": "@jupyter-widgets/base",
            "_model_module_version": "1.2.0",
            "_model_name": "LayoutModel",
            "_view_count": null,
            "_view_module": "@jupyter-widgets/base",
            "_view_module_version": "1.2.0",
            "_view_name": "LayoutView",
            "align_content": null,
            "align_items": null,
            "align_self": null,
            "border": null,
            "bottom": null,
            "display": null,
            "flex": null,
            "flex_flow": null,
            "grid_area": null,
            "grid_auto_columns": null,
            "grid_auto_flow": null,
            "grid_auto_rows": null,
            "grid_column": null,
            "grid_gap": null,
            "grid_row": null,
            "grid_template_areas": null,
            "grid_template_columns": null,
            "grid_template_rows": null,
            "height": null,
            "justify_content": null,
            "justify_items": null,
            "left": null,
            "margin": null,
            "max_height": null,
            "max_width": null,
            "min_height": null,
            "min_width": null,
            "object_fit": null,
            "object_position": null,
            "order": null,
            "overflow": null,
            "overflow_x": null,
            "overflow_y": null,
            "padding": null,
            "right": null,
            "top": null,
            "visibility": null,
            "width": null
          }
        },
        "8e2586f4c4a24051b64142e72aef1219": {
          "model_module": "@jupyter-widgets/controls",
          "model_name": "ProgressStyleModel",
          "model_module_version": "1.5.0",
          "state": {
            "_model_module": "@jupyter-widgets/controls",
            "_model_module_version": "1.5.0",
            "_model_name": "ProgressStyleModel",
            "_view_count": null,
            "_view_module": "@jupyter-widgets/base",
            "_view_module_version": "1.2.0",
            "_view_name": "StyleView",
            "bar_color": null,
            "description_width": ""
          }
        },
        "615c9972a49d4c71afd0b3be2f459cf9": {
          "model_module": "@jupyter-widgets/controls",
          "model_name": "VBoxModel",
          "model_module_version": "1.5.0",
          "state": {
            "_dom_classes": [],
            "_model_module": "@jupyter-widgets/controls",
            "_model_module_version": "1.5.0",
            "_model_name": "VBoxModel",
            "_view_count": null,
            "_view_module": "@jupyter-widgets/controls",
            "_view_module_version": "1.5.0",
            "_view_name": "VBoxView",
            "box_style": "",
            "children": [
              "IPY_MODEL_2d667d148a7846c09cb554267349a157",
              "IPY_MODEL_66bb56a7664f455e817de77bc7b1a972"
            ],
            "layout": "IPY_MODEL_0a9184f19d5b4c14a2c2b0052eb89e26"
          }
        },
        "2d667d148a7846c09cb554267349a157": {
          "model_module": "@jupyter-widgets/controls",
          "model_name": "LabelModel",
          "model_module_version": "1.5.0",
          "state": {
            "_dom_classes": [],
            "_model_module": "@jupyter-widgets/controls",
            "_model_module_version": "1.5.0",
            "_model_name": "LabelModel",
            "_view_count": null,
            "_view_module": "@jupyter-widgets/controls",
            "_view_module_version": "1.5.0",
            "_view_name": "LabelView",
            "description": "",
            "description_tooltip": null,
            "layout": "IPY_MODEL_18809334a2794062aca49dd8a7dc8a0c",
            "placeholder": "​",
            "style": "IPY_MODEL_dc5310b13c27472da2584cadb776b6b4",
            "value": "0.053 MB of 0.053 MB uploaded\r"
          }
        },
        "66bb56a7664f455e817de77bc7b1a972": {
          "model_module": "@jupyter-widgets/controls",
          "model_name": "FloatProgressModel",
          "model_module_version": "1.5.0",
          "state": {
            "_dom_classes": [],
            "_model_module": "@jupyter-widgets/controls",
            "_model_module_version": "1.5.0",
            "_model_name": "FloatProgressModel",
            "_view_count": null,
            "_view_module": "@jupyter-widgets/controls",
            "_view_module_version": "1.5.0",
            "_view_name": "ProgressView",
            "bar_style": "",
            "description": "",
            "description_tooltip": null,
            "layout": "IPY_MODEL_66321df0ddd442e897a13c7b3d390303",
            "max": 1,
            "min": 0,
            "orientation": "horizontal",
            "style": "IPY_MODEL_1dbb7ede89744b31b3d89d8589584c17",
            "value": 1
          }
        },
        "0a9184f19d5b4c14a2c2b0052eb89e26": {
          "model_module": "@jupyter-widgets/base",
          "model_name": "LayoutModel",
          "model_module_version": "1.2.0",
          "state": {
            "_model_module": "@jupyter-widgets/base",
            "_model_module_version": "1.2.0",
            "_model_name": "LayoutModel",
            "_view_count": null,
            "_view_module": "@jupyter-widgets/base",
            "_view_module_version": "1.2.0",
            "_view_name": "LayoutView",
            "align_content": null,
            "align_items": null,
            "align_self": null,
            "border": null,
            "bottom": null,
            "display": null,
            "flex": null,
            "flex_flow": null,
            "grid_area": null,
            "grid_auto_columns": null,
            "grid_auto_flow": null,
            "grid_auto_rows": null,
            "grid_column": null,
            "grid_gap": null,
            "grid_row": null,
            "grid_template_areas": null,
            "grid_template_columns": null,
            "grid_template_rows": null,
            "height": null,
            "justify_content": null,
            "justify_items": null,
            "left": null,
            "margin": null,
            "max_height": null,
            "max_width": null,
            "min_height": null,
            "min_width": null,
            "object_fit": null,
            "object_position": null,
            "order": null,
            "overflow": null,
            "overflow_x": null,
            "overflow_y": null,
            "padding": null,
            "right": null,
            "top": null,
            "visibility": null,
            "width": null
          }
        },
        "18809334a2794062aca49dd8a7dc8a0c": {
          "model_module": "@jupyter-widgets/base",
          "model_name": "LayoutModel",
          "model_module_version": "1.2.0",
          "state": {
            "_model_module": "@jupyter-widgets/base",
            "_model_module_version": "1.2.0",
            "_model_name": "LayoutModel",
            "_view_count": null,
            "_view_module": "@jupyter-widgets/base",
            "_view_module_version": "1.2.0",
            "_view_name": "LayoutView",
            "align_content": null,
            "align_items": null,
            "align_self": null,
            "border": null,
            "bottom": null,
            "display": null,
            "flex": null,
            "flex_flow": null,
            "grid_area": null,
            "grid_auto_columns": null,
            "grid_auto_flow": null,
            "grid_auto_rows": null,
            "grid_column": null,
            "grid_gap": null,
            "grid_row": null,
            "grid_template_areas": null,
            "grid_template_columns": null,
            "grid_template_rows": null,
            "height": null,
            "justify_content": null,
            "justify_items": null,
            "left": null,
            "margin": null,
            "max_height": null,
            "max_width": null,
            "min_height": null,
            "min_width": null,
            "object_fit": null,
            "object_position": null,
            "order": null,
            "overflow": null,
            "overflow_x": null,
            "overflow_y": null,
            "padding": null,
            "right": null,
            "top": null,
            "visibility": null,
            "width": null
          }
        },
        "dc5310b13c27472da2584cadb776b6b4": {
          "model_module": "@jupyter-widgets/controls",
          "model_name": "DescriptionStyleModel",
          "model_module_version": "1.5.0",
          "state": {
            "_model_module": "@jupyter-widgets/controls",
            "_model_module_version": "1.5.0",
            "_model_name": "DescriptionStyleModel",
            "_view_count": null,
            "_view_module": "@jupyter-widgets/base",
            "_view_module_version": "1.2.0",
            "_view_name": "StyleView",
            "description_width": ""
          }
        },
        "66321df0ddd442e897a13c7b3d390303": {
          "model_module": "@jupyter-widgets/base",
          "model_name": "LayoutModel",
          "model_module_version": "1.2.0",
          "state": {
            "_model_module": "@jupyter-widgets/base",
            "_model_module_version": "1.2.0",
            "_model_name": "LayoutModel",
            "_view_count": null,
            "_view_module": "@jupyter-widgets/base",
            "_view_module_version": "1.2.0",
            "_view_name": "LayoutView",
            "align_content": null,
            "align_items": null,
            "align_self": null,
            "border": null,
            "bottom": null,
            "display": null,
            "flex": null,
            "flex_flow": null,
            "grid_area": null,
            "grid_auto_columns": null,
            "grid_auto_flow": null,
            "grid_auto_rows": null,
            "grid_column": null,
            "grid_gap": null,
            "grid_row": null,
            "grid_template_areas": null,
            "grid_template_columns": null,
            "grid_template_rows": null,
            "height": null,
            "justify_content": null,
            "justify_items": null,
            "left": null,
            "margin": null,
            "max_height": null,
            "max_width": null,
            "min_height": null,
            "min_width": null,
            "object_fit": null,
            "object_position": null,
            "order": null,
            "overflow": null,
            "overflow_x": null,
            "overflow_y": null,
            "padding": null,
            "right": null,
            "top": null,
            "visibility": null,
            "width": null
          }
        },
        "1dbb7ede89744b31b3d89d8589584c17": {
          "model_module": "@jupyter-widgets/controls",
          "model_name": "ProgressStyleModel",
          "model_module_version": "1.5.0",
          "state": {
            "_model_module": "@jupyter-widgets/controls",
            "_model_module_version": "1.5.0",
            "_model_name": "ProgressStyleModel",
            "_view_count": null,
            "_view_module": "@jupyter-widgets/base",
            "_view_module_version": "1.2.0",
            "_view_name": "StyleView",
            "bar_color": null,
            "description_width": ""
          }
        }
      }
    }
  },
  "nbformat": 4,
  "nbformat_minor": 0
}